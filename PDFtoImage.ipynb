{
 "cells": [
  {
   "cell_type": "code",
   "execution_count": 11,
   "metadata": {},
   "outputs": [],
   "source": [
    "import os\n",
    "from PyPDF2 import PdfReader\n",
    "from pdf2image import convert_from_path\n",
    "\n",
    "def pdf_to_image(pdf_path, image_path):\n",
    "    images = convert_from_path(pdf_path)\n",
    "    for i, image in enumerate(images):\n",
    "        image.save(f\"{image_path}_{i}.png\", \"PNG\")\n",
    "\n",
    "if __name__ == \"__main__\":\n",
    "    pdf_file_path =\"dataset/Social_Networks_Bhavya_Jha.pdf\"\n",
    "    image_output_path = \"image1\"  \n",
    "\n",
    "    if not os.path.exists(image_output_path):\n",
    "        os.makedirs(image_output_path)\n",
    "\n",
    "    pdf_to_image(pdf_file_path, image_output_path)\n"
   ]
  }
 ],
 "metadata": {
  "kernelspec": {
   "display_name": "Python 3",
   "language": "python",
   "name": "python3"
  },
  "language_info": {
   "codemirror_mode": {
    "name": "ipython",
    "version": 3
   },
   "file_extension": ".py",
   "mimetype": "text/x-python",
   "name": "python",
   "nbconvert_exporter": "python",
   "pygments_lexer": "ipython3",
   "version": "3.10.12"
  }
 },
 "nbformat": 4,
 "nbformat_minor": 2
}
