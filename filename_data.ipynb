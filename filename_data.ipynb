{
 "cells": [
  {
   "cell_type": "code",
   "execution_count": 1,
   "metadata": {},
   "outputs": [
    {
     "name": "stdout",
     "output_type": "stream",
     "text": [
      "020-Social Networks - Anusha Chandrasekaran.pdf\n",
      "185001046_Introduction to Internet of Things - Dhayanidhi V.pdf\n",
      "IntroductionToInternetOfThings-185001085 - Lilianshirley R P.pdf\n",
      "File_extraction.ipynb\n",
      "185001142_Sharmi - Sharmi R.pdf\n",
      "Social_Networks_Bhavya_Jha.pdf\n",
      "185001049-IntroductionToInternetOfThings - Ezhiltharsan S.pdf\n",
      "NPTEL-8th sem wavier - 18-22 batch 5th sem Late Submission (Responses).xlsx\n",
      "185001003_Deep Learning_E-certificate - Aarthi V S.pdf\n",
      "182_Social_Networks - Swetha P.pdf\n"
     ]
    }
   ],
   "source": [
    "from os import listdir\n",
    "from os.path import isfile, join\n",
    "\n",
    "mypath = \"dataset\"  # Replace this with your directory path\n",
    "\n",
    "onlyfiles = [f for f in listdir(mypath) if isfile(join(mypath, f))]\n",
    "for file in onlyfiles:\n",
    "    print(file)\n",
    "\n"
   ]
  },
  {
   "cell_type": "code",
   "execution_count": 5,
   "metadata": {},
   "outputs": [
    {
     "name": "stdout",
     "output_type": "stream",
     "text": [
      "AARTHI VS\n",
      "\n"
     ]
    }
   ],
   "source": [
    "\n",
    "\n",
    "def print_next_line_if_match(text, words):\n",
    "    try:\n",
    "        # Split the text into lines\n",
    "        lines = text.split(\"\\n\")\n",
    "        \n",
    "        # Iterate over each line\n",
    "        for i in range(len(lines) - 1):  # We iterate until the second last line\n",
    "            line = lines[i].lower()  # Convert the line to lowercase for case-insensitive matching\n",
    "            line_words = line.split()\n",
    "            \n",
    "            # Count the number of words from the list present in the line\n",
    "            word_count = sum(1 for word in words if word.lower() in line_words)\n",
    "            \n",
    "            # If two or more words are found and the next line contains words in capital letters, print the next line\n",
    "            if word_count >= 2 and lines[i+1].strip() == lines[i+1].upper() and any(c.isalpha() for c in lines[i+1]):\n",
    "                # print(\"Match found in line:\", line)\n",
    "                # print(\"Next line:\")\n",
    "                print(lines[i+1])\n",
    "                print()\n",
    "                return lines[i+4]\n",
    "    \n",
    "    except Exception as e:\n",
    "        print(f\"An error occurred: {e}\")\n",
    "\n",
    "percentage=\"\"\n",
    "file_path = \"sourece.txt\"# input(\"Enter the path to the text file: \")\n",
    "        # Open the file\n",
    "with open(file_path, 'r') as file:\n",
    "        # Read the contents\n",
    "        text = file.read()\n",
    "            \n",
    "            # List of words to match\n",
    "        words = [\"This\", \"certificate\", \"is\", \"awarded\", \"to\"]\n",
    "            # Call the function to print the next line if >= 2 words match and the next line contains words in capital letters\n",
    "        percentage=print_next_line_if_match(text, words)\n",
    "        # print(percentage)\n",
    " \n"
   ]
  },
  {
   "cell_type": "code",
   "execution_count": 6,
   "metadata": {},
   "outputs": [
    {
     "name": "stdout",
     "output_type": "stream",
     "text": [
      "Deep Learning\n",
      "\n"
     ]
    }
   ],
   "source": [
    "def print_next_line_if_match(text, words):\n",
    "    try:\n",
    "        # Split the text into lines\n",
    "        lines = text.split(\"\\n\")\n",
    "        \n",
    "        # Iterate over each line\n",
    "        for i in range(len(lines) - 1):  # We iterate until the second last line\n",
    "            line = lines[i].lower()  # Convert the line to lowercase for case-insensitive matching\n",
    "            line_words = line.split()\n",
    "            \n",
    "            # Count the number of words from the list present in the line\n",
    "            word_count = sum(1 for word in words if word.lower() in line_words)\n",
    "            \n",
    "            # If two or more words are found, print the next line\n",
    "            if word_count >= 2:\n",
    "                # print(\"Match found in line:\", line)\n",
    "                # print(\"Next line:\")\n",
    "                print(lines[i+1])\n",
    "                print()\n",
    "    \n",
    "    except Exception as e:\n",
    "        print(f\"An error occurred: {e}\")\n",
    "\n",
    "def main():\n",
    "\n",
    "    try:\n",
    "        # Open the file\n",
    "        with open(file_path, 'r') as file:\n",
    "            # Read the contents\n",
    "            text = file.read()\n",
    "            \n",
    "            # List of words to match\n",
    "            words = [\"for\", \"successfully\", \"completing\", \"the\", \"course\"]\n",
    "            \n",
    "            # Call the function to print the next line if >= 2 words match\n",
    "            print_next_line_if_match(text, words)\n",
    "    \n",
    "    except FileNotFoundError:\n",
    "        print(f\"File '{file_path}' not found.\")\n",
    "    except Exception as e:\n",
    "        print(f\"An error occurred: {e}\")\n",
    "\n",
    "if __name__ == \"__main__\":\n",
    "    main()\n"
   ]
  },
  {
   "cell_type": "code",
   "execution_count": 7,
   "metadata": {},
   "outputs": [
    {
     "name": "stdout",
     "output_type": "stream",
     "text": [
      "Extracted number: 90.0\n"
     ]
    }
   ],
   "source": [
    "import re\n",
    "\n",
    "def extract_number_from_line(line):\n",
    "    try:\n",
    "        # Define the regular expression pattern to match numbers\n",
    "        pattern = r'(\\d+(?:\\.\\d+)?)'  # Matches numbers with optional decimal point\n",
    "        \n",
    "        # Find all matches in the line\n",
    "        matches = re.findall(pattern, line)\n",
    "        \n",
    "        # Extract the first number found\n",
    "        if matches:\n",
    "            return float(matches[0])  # Convert the match to a float and return\n",
    "        else:\n",
    "            return None  # Return None if no number found\n",
    "    \n",
    "    except Exception as e:\n",
    "        print(f\"An error occurred while extracting number: {e}\")\n",
    "        return None\n",
    "\n",
    "def main():\n",
    "    try:\n",
    "        # Example line containing a number\n",
    "        line = percentage\n",
    "\n",
    "        # Extract number from line\n",
    "        number = extract_number_from_line(line)\n",
    "\n",
    "        # Print the extracted number\n",
    "        if number is not None:\n",
    "            print(\"Extracted number:\", number)\n",
    "        else:\n",
    "            print(\"No number found in the line.\")\n",
    "    \n",
    "    except Exception as e:\n",
    "        print(f\"An error occurred: {e}\")\n",
    "\n",
    "if __name__ == \"__main__\":\n",
    "    main()\n"
   ]
  },
  {
   "cell_type": "code",
   "execution_count": null,
   "metadata": {},
   "outputs": [],
   "source": []
  }
 ],
 "metadata": {
  "kernelspec": {
   "display_name": "Python 3",
   "language": "python",
   "name": "python3"
  },
  "language_info": {
   "codemirror_mode": {
    "name": "ipython",
    "version": 3
   },
   "file_extension": ".py",
   "mimetype": "text/x-python",
   "name": "python",
   "nbconvert_exporter": "python",
   "pygments_lexer": "ipython3",
   "version": "3.10.12"
  }
 },
 "nbformat": 4,
 "nbformat_minor": 2
}
